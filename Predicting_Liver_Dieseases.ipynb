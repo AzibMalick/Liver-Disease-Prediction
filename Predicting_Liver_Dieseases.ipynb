{
 "cells": [
  {
   "cell_type": "markdown",
   "id": "b6f81f67",
   "metadata": {},
   "source": [
    " **Project Overview**\n",
    " \n",
    "This project focuses on predicting liver disease using clinical patient data. We implemented two classification models — Support Vector Machine (SVM) and Naive Bayes — to identify patients at risk based on various biochemical and demographic attributes."
   ]
  },
  {
   "cell_type": "markdown",
   "id": "6bcb0040",
   "metadata": {},
   "source": [
    " **Dataset Description**\n",
    " \n",
    "The dataset contains information such as:\n",
    "\n",
    "1. Age, Gender\n",
    "\n",
    "2. Total Bilirubin, Direct Bilirubin\n",
    "\n",
    "3. Alkaline Phosphotase, SGPT, SGOT\n",
    "\n",
    "4. Total Proteins, Albumin, Albumin and Globulin Ratio\n",
    "\n",
    "5. Target Variable: 1 (liver disease), 0 (no liver disease)"
   ]
  },
  {
   "cell_type": "code",
   "execution_count": null,
   "id": "079c265b",
   "metadata": {},
   "outputs": [
    {
     "name": "stdout",
     "output_type": "stream",
     "text": [
      "Requirement already satisfied: pandas in c:\\users\\danish laptop\\appdata\\local\\programs\\python\\python313\\lib\\site-packages (2.3.1)\n",
      "Requirement already satisfied: seaborn in c:\\users\\danish laptop\\appdata\\local\\programs\\python\\python313\\lib\\site-packages (0.13.2)\n",
      "Requirement already satisfied: matplotlib in c:\\users\\danish laptop\\appdata\\local\\programs\\python\\python313\\lib\\site-packages (3.10.3)\n",
      "Requirement already satisfied: scikit-learn in c:\\users\\danish laptop\\appdata\\local\\programs\\python\\python313\\lib\\site-packages (1.7.1)\n",
      "Requirement already satisfied: numpy>=1.26.0 in c:\\users\\danish laptop\\appdata\\local\\programs\\python\\python313\\lib\\site-packages (from pandas) (2.3.1)\n",
      "Requirement already satisfied: python-dateutil>=2.8.2 in c:\\users\\danish laptop\\appdata\\roaming\\python\\python313\\site-packages (from pandas) (2.9.0.post0)\n",
      "Requirement already satisfied: pytz>=2020.1 in c:\\users\\danish laptop\\appdata\\local\\programs\\python\\python313\\lib\\site-packages (from pandas) (2025.2)\n",
      "Requirement already satisfied: tzdata>=2022.7 in c:\\users\\danish laptop\\appdata\\local\\programs\\python\\python313\\lib\\site-packages (from pandas) (2025.2)\n",
      "Requirement already satisfied: contourpy>=1.0.1 in c:\\users\\danish laptop\\appdata\\local\\programs\\python\\python313\\lib\\site-packages (from matplotlib) (1.3.2)\n",
      "Requirement already satisfied: cycler>=0.10 in c:\\users\\danish laptop\\appdata\\local\\programs\\python\\python313\\lib\\site-packages (from matplotlib) (0.12.1)\n",
      "Requirement already satisfied: fonttools>=4.22.0 in c:\\users\\danish laptop\\appdata\\local\\programs\\python\\python313\\lib\\site-packages (from matplotlib) (4.59.0)\n",
      "Requirement already satisfied: kiwisolver>=1.3.1 in c:\\users\\danish laptop\\appdata\\local\\programs\\python\\python313\\lib\\site-packages (from matplotlib) (1.4.8)\n",
      "Requirement already satisfied: packaging>=20.0 in c:\\users\\danish laptop\\appdata\\roaming\\python\\python313\\site-packages (from matplotlib) (25.0)\n",
      "Requirement already satisfied: pillow>=8 in c:\\users\\danish laptop\\appdata\\local\\programs\\python\\python313\\lib\\site-packages (from matplotlib) (11.3.0)\n",
      "Requirement already satisfied: pyparsing>=2.3.1 in c:\\users\\danish laptop\\appdata\\local\\programs\\python\\python313\\lib\\site-packages (from matplotlib) (3.2.3)\n",
      "Requirement already satisfied: scipy>=1.8.0 in c:\\users\\danish laptop\\appdata\\local\\programs\\python\\python313\\lib\\site-packages (from scikit-learn) (1.16.0)\n",
      "Requirement already satisfied: joblib>=1.2.0 in c:\\users\\danish laptop\\appdata\\local\\programs\\python\\python313\\lib\\site-packages (from scikit-learn) (1.5.1)\n",
      "Requirement already satisfied: threadpoolctl>=3.1.0 in c:\\users\\danish laptop\\appdata\\local\\programs\\python\\python313\\lib\\site-packages (from scikit-learn) (3.6.0)\n",
      "Requirement already satisfied: six>=1.5 in c:\\users\\danish laptop\\appdata\\roaming\\python\\python313\\site-packages (from python-dateutil>=2.8.2->pandas) (1.17.0)\n",
      "Note: you may need to restart the kernel to use updated packages.\n",
      "Shape: (583, 11)\n",
      "\n",
      "Columns: ['Age', 'Gender', 'Total_Bilirubin', 'Direct_Bilirubin', 'Alkaline_Phosphotase', 'Alamine_Aminotransferase', 'Aspartate_Aminotransferase', 'Total_Protiens', 'Albumin', 'Albumin_and_Globulin_Ratio', 'Dataset']\n",
      "\n",
      "Value counts (target):\n",
      " Dataset\n",
      "1    416\n",
      "2    167\n",
      "Name: count, dtype: int64\n"
     ]
    },
    {
     "data": {
      "text/html": [
       "<div>\n",
       "<style scoped>\n",
       "    .dataframe tbody tr th:only-of-type {\n",
       "        vertical-align: middle;\n",
       "    }\n",
       "\n",
       "    .dataframe tbody tr th {\n",
       "        vertical-align: top;\n",
       "    }\n",
       "\n",
       "    .dataframe thead th {\n",
       "        text-align: right;\n",
       "    }\n",
       "</style>\n",
       "<table border=\"1\" class=\"dataframe\">\n",
       "  <thead>\n",
       "    <tr style=\"text-align: right;\">\n",
       "      <th></th>\n",
       "      <th>Age</th>\n",
       "      <th>Gender</th>\n",
       "      <th>Total_Bilirubin</th>\n",
       "      <th>Direct_Bilirubin</th>\n",
       "      <th>Alkaline_Phosphotase</th>\n",
       "      <th>Alamine_Aminotransferase</th>\n",
       "      <th>Aspartate_Aminotransferase</th>\n",
       "      <th>Total_Protiens</th>\n",
       "      <th>Albumin</th>\n",
       "      <th>Albumin_and_Globulin_Ratio</th>\n",
       "      <th>Dataset</th>\n",
       "    </tr>\n",
       "  </thead>\n",
       "  <tbody>\n",
       "    <tr>\n",
       "      <th>0</th>\n",
       "      <td>65</td>\n",
       "      <td>Female</td>\n",
       "      <td>0.7</td>\n",
       "      <td>0.1</td>\n",
       "      <td>187</td>\n",
       "      <td>16</td>\n",
       "      <td>18</td>\n",
       "      <td>6.8</td>\n",
       "      <td>3.3</td>\n",
       "      <td>0.90</td>\n",
       "      <td>1</td>\n",
       "    </tr>\n",
       "    <tr>\n",
       "      <th>1</th>\n",
       "      <td>62</td>\n",
       "      <td>Male</td>\n",
       "      <td>10.9</td>\n",
       "      <td>5.5</td>\n",
       "      <td>699</td>\n",
       "      <td>64</td>\n",
       "      <td>100</td>\n",
       "      <td>7.5</td>\n",
       "      <td>3.2</td>\n",
       "      <td>0.74</td>\n",
       "      <td>1</td>\n",
       "    </tr>\n",
       "    <tr>\n",
       "      <th>2</th>\n",
       "      <td>62</td>\n",
       "      <td>Male</td>\n",
       "      <td>7.3</td>\n",
       "      <td>4.1</td>\n",
       "      <td>490</td>\n",
       "      <td>60</td>\n",
       "      <td>68</td>\n",
       "      <td>7.0</td>\n",
       "      <td>3.3</td>\n",
       "      <td>0.89</td>\n",
       "      <td>1</td>\n",
       "    </tr>\n",
       "    <tr>\n",
       "      <th>3</th>\n",
       "      <td>58</td>\n",
       "      <td>Male</td>\n",
       "      <td>1.0</td>\n",
       "      <td>0.4</td>\n",
       "      <td>182</td>\n",
       "      <td>14</td>\n",
       "      <td>20</td>\n",
       "      <td>6.8</td>\n",
       "      <td>3.4</td>\n",
       "      <td>1.00</td>\n",
       "      <td>1</td>\n",
       "    </tr>\n",
       "    <tr>\n",
       "      <th>4</th>\n",
       "      <td>72</td>\n",
       "      <td>Male</td>\n",
       "      <td>3.9</td>\n",
       "      <td>2.0</td>\n",
       "      <td>195</td>\n",
       "      <td>27</td>\n",
       "      <td>59</td>\n",
       "      <td>7.3</td>\n",
       "      <td>2.4</td>\n",
       "      <td>0.40</td>\n",
       "      <td>1</td>\n",
       "    </tr>\n",
       "  </tbody>\n",
       "</table>\n",
       "</div>"
      ],
      "text/plain": [
       "   Age  Gender  Total_Bilirubin  Direct_Bilirubin  Alkaline_Phosphotase  \\\n",
       "0   65  Female              0.7               0.1                   187   \n",
       "1   62    Male             10.9               5.5                   699   \n",
       "2   62    Male              7.3               4.1                   490   \n",
       "3   58    Male              1.0               0.4                   182   \n",
       "4   72    Male              3.9               2.0                   195   \n",
       "\n",
       "   Alamine_Aminotransferase  Aspartate_Aminotransferase  Total_Protiens  \\\n",
       "0                        16                          18             6.8   \n",
       "1                        64                         100             7.5   \n",
       "2                        60                          68             7.0   \n",
       "3                        14                          20             6.8   \n",
       "4                        27                          59             7.3   \n",
       "\n",
       "   Albumin  Albumin_and_Globulin_Ratio  Dataset  \n",
       "0      3.3                        0.90        1  \n",
       "1      3.2                        0.74        1  \n",
       "2      3.3                        0.89        1  \n",
       "3      3.4                        1.00        1  \n",
       "4      2.4                        0.40        1  "
      ]
     },
     "execution_count": 1,
     "metadata": {},
     "output_type": "execute_result"
    }
   ],
   "source": [
    "%pip install pandas seaborn matplotlib scikit-learn\n",
    "import pandas as pd\n",
    "\n",
    "df = pd.read_csv(\"indian_liver_patient.csv\")\n",
    "\n",
    "print(\"Shape:\", df.shape)\n",
    "print(\"\\nColumns:\", df.columns.tolist())\n",
    "print(\"\\nValue counts (target):\\n\", df['Dataset'].value_counts())\n",
    "\n",
    "df.head()\n"
   ]
  },
  {
   "cell_type": "markdown",
   "id": "dd25e1aa",
   "metadata": {},
   "source": [
    " **Exploratory Data Analysis (EDA)**\n",
    "\n",
    "1. No missing values\n",
    "\n",
    "2. Numeric features were scaled using StandardScaler\n",
    "\n",
    "3. Target distribution is slightly imbalanced\n",
    "\n",
    "4. Features like Total Bilirubin and Alkaline Phosphotase showed correlation with disease"
   ]
  },
  {
   "cell_type": "code",
   "execution_count": null,
   "id": "2aa9c0e3",
   "metadata": {},
   "outputs": [
    {
     "name": "stdout",
     "output_type": "stream",
     "text": [
      "Cleaned target distribution:\n",
      " target\n",
      "1    414\n",
      "0    165\n",
      "Name: count, dtype: int64\n"
     ]
    }
   ],
   "source": [
    "df = df.dropna()  \n",
    "df.rename(columns={'Dataset': 'target'}, inplace=True)\n",
    "df['target'] = df['target'].map({1: 1, 2: 0})\n",
    "df['Gender'] = df['Gender'].map({'Male':1, 'Female':0})\n",
    "print(\"Cleaned target distribution:\\n\", df['target'].value_counts())\n"
   ]
  },
  {
   "cell_type": "markdown",
   "id": "37d7ea2c",
   "metadata": {},
   "source": [
    " **Modeling: SVM & Naive Bayes**\n",
    "We trained two models:\n",
    "\n",
    "🔷 SVM (Linear Kernel)\n",
    "\n",
    "🔶 Gaussian Naive Bayes\n",
    "\n",
    "Performance was measured using accuracy, confusion matrix, and classification report."
   ]
  },
  {
   "cell_type": "code",
   "execution_count": 3,
   "id": "a9ece628",
   "metadata": {},
   "outputs": [],
   "source": [
    "from sklearn.model_selection import train_test_split\n",
    "from sklearn.preprocessing import StandardScaler\n",
    "\n",
    "X = df.drop('target', axis=1)\n",
    "y = df['target']\n",
    "\n",
    "X_train, X_test, y_train, y_test = train_test_split(\n",
    "    X, y, test_size=0.2, random_state=42, stratify=y\n",
    ")\n",
    "\n",
    "scaler = StandardScaler()\n",
    "X_train_scaled = scaler.fit_transform(X_train)\n",
    "X_test_scaled = scaler.transform(X_test)\n"
   ]
  },
  {
   "cell_type": "code",
   "execution_count": 4,
   "id": "8024b161",
   "metadata": {},
   "outputs": [
    {
     "name": "stdout",
     "output_type": "stream",
     "text": [
      "SVM Accuracy: 71.55%\n"
     ]
    },
    {
     "data": {
      "image/png": "[encoded data removed]",
      "text/plain": [
       "<Figure size 640x480 with 2 Axes>"
      ]
     },
     "metadata": {},
     "output_type": "display_data"
    },
    {
     "name": "stdout",
     "output_type": "stream",
     "text": [
      "Classification Report - SVM:\n",
      "               precision    recall  f1-score   support\n",
      "\n",
      "           0       0.00      0.00      0.00        33\n",
      "           1       0.72      1.00      0.83        83\n",
      "\n",
      "    accuracy                           0.72       116\n",
      "   macro avg       0.36      0.50      0.42       116\n",
      "weighted avg       0.51      0.72      0.60       116\n",
      "\n"
     ]
    },
    {
     "name": "stderr",
     "output_type": "stream",
     "text": [
      "c:\\Users\\DANISH LAPTOP\\AppData\\Local\\Programs\\Python\\Python313\\Lib\\site-packages\\sklearn\\metrics\\_classification.py:1731: UndefinedMetricWarning: Precision is ill-defined and being set to 0.0 in labels with no predicted samples. Use `zero_division` parameter to control this behavior.\n",
      "  _warn_prf(average, modifier, f\"{metric.capitalize()} is\", result.shape[0])\n",
      "c:\\Users\\DANISH LAPTOP\\AppData\\Local\\Programs\\Python\\Python313\\Lib\\site-packages\\sklearn\\metrics\\_classification.py:1731: UndefinedMetricWarning: Precision is ill-defined and being set to 0.0 in labels with no predicted samples. Use `zero_division` parameter to control this behavior.\n",
      "  _warn_prf(average, modifier, f\"{metric.capitalize()} is\", result.shape[0])\n",
      "c:\\Users\\DANISH LAPTOP\\AppData\\Local\\Programs\\Python\\Python313\\Lib\\site-packages\\sklearn\\metrics\\_classification.py:1731: UndefinedMetricWarning: Precision is ill-defined and being set to 0.0 in labels with no predicted samples. Use `zero_division` parameter to control this behavior.\n",
      "  _warn_prf(average, modifier, f\"{metric.capitalize()} is\", result.shape[0])\n"
     ]
    }
   ],
   "source": [
    "from sklearn.svm import SVC\n",
    "from sklearn.metrics import accuracy_score, confusion_matrix, classification_report\n",
    "import seaborn as sns\n",
    "import matplotlib.pyplot as plt\n",
    "\n",
    "svm = SVC(kernel='linear', random_state=42)\n",
    "svm.fit(X_train_scaled, y_train)\n",
    "\n",
    "svm_preds = svm.predict(X_test_scaled)\n",
    "svm_acc = accuracy_score(y_test, svm_preds)\n",
    "print(f\"SVM Accuracy: {svm_acc * 100:.2f}%\")\n",
    "\n",
    "sns.heatmap(confusion_matrix(y_test, svm_preds), annot=True, fmt='d', cmap='Blues')\n",
    "plt.title(\"Confusion Matrix: SVM\")\n",
    "plt.xlabel(\"Predicted\")\n",
    "plt.ylabel(\"Actual\")\n",
    "plt.show()\n",
    "\n",
    "print(\"Classification Report - SVM:\\n\", classification_report(y_test, svm_preds))\n"
   ]
  },
  {
   "cell_type": "code",
   "execution_count": 5,
   "id": "1a2467dc",
   "metadata": {},
   "outputs": [
    {
     "name": "stdout",
     "output_type": "stream",
     "text": [
      "Naive Bayes Accuracy: 61.21%\n"
     ]
    },
    {
     "data": {
      "image/png": "[encoded data removed]",
      "text/plain": [
       "<Figure size 640x480 with 2 Axes>"
      ]
     },
     "metadata": {},
     "output_type": "display_data"
    },
    {
     "name": "stdout",
     "output_type": "stream",
     "text": [
      "Classification Report - Naive Bayes:\n",
      "               precision    recall  f1-score   support\n",
      "\n",
      "           0       0.42      0.94      0.58        33\n",
      "           1       0.95      0.48      0.64        83\n",
      "\n",
      "    accuracy                           0.61       116\n",
      "   macro avg       0.69      0.71      0.61       116\n",
      "weighted avg       0.80      0.61      0.62       116\n",
      "\n"
     ]
    }
   ],
   "source": [
    "from sklearn.naive_bayes import GaussianNB\n",
    "\n",
    "nb = GaussianNB()\n",
    "nb.fit(X_train_scaled, y_train)\n",
    "\n",
    "nb_preds = nb.predict(X_test_scaled)\n",
    "nb_acc = accuracy_score(y_test, nb_preds)\n",
    "print(f\"Naive Bayes Accuracy: {nb_acc * 100:.2f}%\")\n",
    "\n",
    "sns.heatmap(confusion_matrix(y_test, nb_preds), annot=True, fmt='d', cmap='Purples')\n",
    "plt.title(\"Confusion Matrix: Naive Bayes\")\n",
    "plt.xlabel(\"Predicted\")\n",
    "plt.ylabel(\"Actual\")\n",
    "plt.show()\n",
    "\n",
    "print(\"Classification Report - Naive Bayes:\\n\", classification_report(y_test, nb_preds))\n"
   ]
  },
  {
   "cell_type": "markdown",
   "id": "17c1f54d",
   "metadata": {},
   "source": [
    "# Liver Disease Prediction Using Machine Learning\n",
    "\n",
    "This project uses clinical patient data to predict the likelihood of liver disease using **SVM** and **Naive Bayes** models. It is part of a 15-project ML learning sprint aimed at developing healthcare-focused predictive models.\n",
    "\n",
    "## Project Highlights\n",
    "- Clinical data preprocessing & scaling\n",
    "- Support Vector Machine (SVM) and Naive Bayes models\n",
    "- Accuracy comparison with confusion matrices\n",
    "- Medical interpretation of model outcomes\n",
    "- Recommendations for future improvements\n",
    "\n",
    "## Dataset\n",
    "- Source: [Liver Disease UCI Repository or Kaggle version]\n",
    "- Features include age, bilirubin levels, enzymes, proteins, and diagnosis\n",
    "\n",
    "## Results\n",
    "\n",
    "| Model          | Accuracy |\n",
    "|----------------|----------|\n",
    "| SVM            | 71.55%   |\n",
    "| Naive Bayes    | 61.21%   |\n",
    "\n",
    "SVM outperformed Naive Bayes, likely due to its robustness in handling correlated clinical features.\n",
    "\n",
    "## Medical Insight\n",
    "\n",
    "The model identifies **Total Bilirubin**, **Alkaline Phosphotase**, and **Albumin** as critical markers in liver disease prediction. Such models can assist in early diagnosis or decision support in clinical settings.\n",
    "\n",
    "## Files\n",
    "\n",
    "- `liver-disease-prediction.ipynb` – Jupyter notebook source code  \n",
    "- `liver_patient_dataset.csv` – Dataset used  \n",
    "- `requirements.txt` – Required libraries  \n",
    "- `liver-disease-report.pdf` – (optional) Final formatted report\n",
    "\n",
    "## Future Improvements\n",
    "\n",
    "- Use SMOTE for imbalance  \n",
    "- Tune SVM with RBF or polynomial kernels  \n",
    "- Try ensemble models (XGBoost, Gradient Boosting)\n",
    "\n",
    "## Author\n",
    "\n",
    "Developed by **Azib Malick**  \n",
    "© 2025 Azib Malick. All rights reserved.\n"
   ]
  }
 ],
 "metadata": {
  "kernelspec": {
   "display_name": "Python 3",
   "language": "python",
   "name": "python3"
  },
  "language_info": {
   "codemirror_mode": {
    "name": "ipython",
    "version": 3
   },
   "file_extension": ".py",
   "mimetype": "text/x-python",
   "name": "python",
   "nbconvert_exporter": "python",
   "pygments_lexer": "ipython3",
   "version": "3.13.5"
  }
 },
 "nbformat": 4,
 "nbformat_minor": 5
}
